{
 "cells": [
  {
   "cell_type": "code",
   "execution_count": null,
   "metadata": {},
   "outputs": [],
   "source": [
    "import sys\n",
    "\n",
    "import numpy as np\n",
    "\n",
    "from opts import get_opts\n",
    "from utils import get_data_base_path, make_figure, notebook_config\n",
    "\n",
    "sys.path.insert(1, \"/Users/user/Documents/Git_repos/climate-epidemics\")\n",
    "\n",
    "import climepi  # noqa\n",
    "from climepi import climdata, epimod\n",
    "\n",
    "# Configure notebook\n",
    "notebook_config()\n",
    "\n",
    "# Get options\n",
    "options = get_opts()\n",
    "year_range = options[\"year_range\"]\n",
    "location = options[\"location_default\"]\n",
    "epi_model_name = options[\"epi_model_name_default\"]\n",
    "polyfit_degree = options[\"polyfit_degree\"]\n",
    "plot_opts_temp = options[\"plot_opts_temp\"]\n",
    "plot_opts_epi = options[\"plot_opts_epi\"]\n",
    "figure_dir = options[\"figure_dir\"]"
   ]
  },
  {
   "cell_type": "code",
   "execution_count": 2,
   "metadata": {},
   "outputs": [],
   "source": [
    "# Get climate data\n",
    "ds_clim = (\n",
    "    climdata.get_example_dataset(\n",
    "        \"isimip_cities\", data_dir=get_data_base_path() / \"isimip_cities\"\n",
    "    )\n",
    "    .sel(location=location)\n",
    "    .sel(time=slice(str(year_range[0]), str(year_range[1])))\n",
    ")\n",
    "# Yearly average temperature data\n",
    "ds_temp_yearly = ds_clim.climepi.yearly_average(\"temperature\")\n",
    "ds_temp_yearly[\"time\"] = ds_temp_yearly[\"time.year\"]  # avoids plotting issues"
   ]
  },
  {
   "cell_type": "code",
   "execution_count": 3,
   "metadata": {},
   "outputs": [],
   "source": [
    "# Get and run epidemiological model\n",
    "epi_model = epimod.get_example_model(epi_model_name)\n",
    "ds_months_suitable = ds_clim.climepi.run_epi_model(\n",
    "    epi_model, return_months_suitable=True\n",
    ")\n",
    "ds_months_suitable[\"time\"] = ds_months_suitable[\"time.year\"]  # avoids plotting issues"
   ]
  },
  {
   "cell_type": "code",
   "execution_count": null,
   "metadata": {},
   "outputs": [],
   "source": [
    "# Climate variability - variance decomposition\n",
    "p_clim_var = ds_temp_yearly.climepi.plot_var_decomp(polyfit_degree=polyfit_degree).opts(\n",
    "    **{\n",
    "        **plot_opts_temp,\n",
    "        \"ylim\": (0, 5.1),\n",
    "        \"yticks\": list(range(6)),\n",
    "        \"ylabel\": \"Variance of mean temperature (°C²)\",\n",
    "    }\n",
    ")\n",
    "p_clim_var"
   ]
  },
  {
   "cell_type": "code",
   "execution_count": null,
   "metadata": {},
   "outputs": [],
   "source": [
    "# Epi variability - variance decomposition\n",
    "p_epi_var = ds_months_suitable.climepi.plot_var_decomp(\n",
    "    polyfit_degree=polyfit_degree\n",
    ").opts(\n",
    "    **{\n",
    "        **plot_opts_epi,\n",
    "        \"ylim\": (0, 2),\n",
    "        \"yticks\": np.arange(0, 2.5, 0.5),\n",
    "        \"ylabel\": \"Variance of months suitable\",\n",
    "    }\n",
    ")\n",
    "p_epi_var"
   ]
  },
  {
   "cell_type": "code",
   "execution_count": 12,
   "metadata": {},
   "outputs": [],
   "source": [
    "# Combine panels\n",
    "panels = [p_clim_var, p_epi_var]\n",
    "make_figure(\n",
    "    figure_dir / \"variance_plots.svg\",\n",
    "    panels,\n",
    "    show_legend_list=[True, False],\n",
    ")"
   ]
  }
 ],
 "metadata": {
  "kernelspec": {
   "display_name": "climate_epidemic_uncertainty",
   "language": "python",
   "name": "python3"
  },
  "language_info": {
   "codemirror_mode": {
    "name": "ipython",
    "version": 3
   },
   "file_extension": ".py",
   "mimetype": "text/x-python",
   "name": "python",
   "nbconvert_exporter": "python",
   "pygments_lexer": "ipython3",
   "version": "3.12.5"
  }
 },
 "nbformat": 4,
 "nbformat_minor": 2
}
