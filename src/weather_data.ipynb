{
 "cells": [
  {
   "cell_type": "code",
   "execution_count": null,
   "metadata": {},
   "outputs": [],
   "source": [
    "from datetime import datetime\n",
    "\n",
    "import meteostat\n",
    "import xarray as xr\n",
    "from climepi import climdata\n",
    "from climepi._xcdat import BoundsAccessor, center_times  # noqa\n",
    "\n",
    "import opts\n",
    "\n",
    "# Get options\n",
    "options = opts.get_opts()\n",
    "data_base_dir = options[\"data_base_dir\"]\n",
    "year_range = options[\"year_range\"]\n",
    "locations = [options[\"location_default\"]] + options[\"locations_additional\"]\n",
    "no_locations = len(locations)"
   ]
  },
  {
   "cell_type": "code",
   "execution_count": 3,
   "metadata": {},
   "outputs": [],
   "source": [
    "# Get climate projection data (only to match longitudes and latitudes)\n",
    "ds_clim = climdata.get_example_dataset(\"isimip_cities_daily\", base_dir=data_base_dir)"
   ]
  },
  {
   "cell_type": "code",
   "execution_count": null,
   "metadata": {},
   "outputs": [],
   "source": [
    "stations_all = meteostat.Stations().fetch()\n",
    "station_dict = {\n",
    "                \"London\": \"03772\", # \"London Heathrow Airport\",\n",
    "                \"Paris\": \"07149\", # \"Paris-Orly Airport\",\n",
    "                \"Istanbul\": \"17060\", # \"Istanbul Ataturk Airport\",\n",
    "                \"Cape Town\": \"68816\", # \"Cape Town International Airport\",\n",
    "                \"Los Angeles\": \"72295\", # \"Los Angeles International Airport\",\n",
    "                }"
   ]
  },
  {
   "cell_type": "code",
   "execution_count": null,
   "metadata": {},
   "outputs": [],
   "source": [
    "ds_list = []\n",
    "\n",
    "for location in locations:\n",
    "    location_id = station_dict[location]\n",
    "    print(f\"For location {location}, using data from weather station: {stations_all.loc[location_id][\"name\"]}\")\n",
    "    df_curr = meteostat.Daily(\n",
    "        loc=location_id,\n",
    "        start=datetime(2020, 1, 1),\n",
    "        end=datetime(2020, 12, 31),\n",
    "    ).fetch()\n",
    "    ds_curr = (\n",
    "        xr.Dataset.from_dataframe(df_curr[[\"tavg\"]])\n",
    "        .rename_vars(tavg=\"temperature\")\n",
    "        .assign_coords(location=location)\n",
    "        .expand_dims(\"location\", axis=1)\n",
    "    )\n",
    "    ds_list.append(ds_curr)"
   ]
  },
  {
   "cell_type": "code",
   "execution_count": null,
   "metadata": {},
   "outputs": [],
   "source": [
    "ds = xr.concat(ds_list, dim=\"location\")\n",
    "ds = center_times(ds.bounds.add_time_bounds(method=\"freq\", freq=\"day\"))\n",
    "ds[\"time\"].encoding[\"calendar\"] = \"standard\"\n",
    "ds[\"time\"].encoding[\"units\"] = \"hours since 2000-01-01 00:00:00\"\n",
    "ds"
   ]
  },
  {
   "cell_type": "code",
   "execution_count": 14,
   "metadata": {},
   "outputs": [],
   "source": [
    "ds.to_netcdf(data_base_dir / \"weather_2020.nc\")"
   ]
  }
 ],
 "metadata": {
  "kernelspec": {
   "display_name": "climate-vbd-uncertainty",
   "language": "python",
   "name": "python3"
  },
  "language_info": {
   "codemirror_mode": {
    "name": "ipython",
    "version": 3
   },
   "file_extension": ".py",
   "mimetype": "text/x-python",
   "name": "python",
   "nbconvert_exporter": "python",
   "pygments_lexer": "ipython3",
   "version": "3.12.8"
  }
 },
 "nbformat": 4,
 "nbformat_minor": 2
}
