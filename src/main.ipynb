{
 "cells": [
  {
   "cell_type": "code",
   "execution_count": null,
   "metadata": {},
   "outputs": [],
   "source": [
    "import climepi  # noqa\n",
    "import holoviews as hv\n",
    "from climepi import climdata, epimod\n",
    "\n",
    "import opts\n",
    "from figure_export import export_main_figure\n",
    "\n",
    "# Get options\n",
    "options = opts.get_opts()\n",
    "year_range = options[\"year_range\"]\n",
    "location = options[\"location_default\"]\n",
    "epi_model_name = options[\"epi_model_name_default\"]\n",
    "uncertainty_level = options[\"uncertainty_level\"]\n",
    "polyfit_degree = options[\"polyfit_degree\"]\n",
    "plot_opts_clim = options[\"plot_opts_clim\"]\n",
    "plot_opts_epi = options[\"plot_opts_epi\"]\n",
    "data_base_dir = options[\"data_base_dir\"]\n",
    "\n",
    "colors = hv.Cycle().values"
   ]
  },
  {
   "cell_type": "code",
   "execution_count": 13,
   "metadata": {},
   "outputs": [],
   "source": [
    "# Get climate data\n",
    "ds_clim = (\n",
    "    climdata.get_example_dataset(\"isimip_cities_daily\", base_dir=data_base_dir)\n",
    "    .sel(location=location)\n",
    "    .sel(time=slice(str(year_range[0]), str(year_range[1])))\n",
    ")\n",
    "# Yearly average temperature data\n",
    "ds_temp_yearly = ds_clim.climepi.yearly_average(\"temperature\")\n",
    "ds_temp_yearly[\"time\"] = ds_temp_yearly[\"time.year\"]  # avoids plotting issues"
   ]
  },
  {
   "cell_type": "code",
   "execution_count": 23,
   "metadata": {},
   "outputs": [],
   "source": [
    "# Get and run epidemiological model\n",
    "epi_model = epimod.get_example_model(epi_model_name)\n",
    "ds_suitability = ds_clim.climepi.run_epi_model(epi_model)\n",
    "ds_days_suitable = ds_suitability.climepi.yearly_portion_suitable()\n",
    "ds_days_suitable[\"time\"] = ds_days_suitable[\"time.year\"]  # avoids plotting issues"
   ]
  },
  {
   "cell_type": "code",
   "execution_count": 15,
   "metadata": {},
   "outputs": [],
   "source": [
    "# Example scenarios and models\n",
    "scenario_ex = \"ssp370\"\n",
    "model_ex = \"ipsl-cm6a-lr\"\n",
    "scenarios_compare = [\"ssp126\", \"ssp370\", \"ssp585\"]\n",
    "scenarios_compare_plot_names = [\"SSP1-2.6\", \"SSP3-7.0\", \"SSP5-8.5\"]\n",
    "models_compare = [\"canesm5\", \"ipsl-cm6a-lr\", \"miroc6\"]\n",
    "models_compare_plot_names = [\"CanESM5\", \"IPSL-CM6A-LR\", \"MIROC6\"]"
   ]
  },
  {
   "cell_type": "code",
   "execution_count": null,
   "metadata": {},
   "outputs": [],
   "source": [
    "# Internal variability\n",
    "ds_plot_internal = ds_temp_yearly.sel(scenario=scenario_ex, model=model_ex)\n",
    "p_internal_plume = ds_plot_internal.climepi.plot_uncertainty_interval_decomposition(\n",
    "    uncertainty_level=uncertainty_level,\n",
    "    polyfit_degree=polyfit_degree,\n",
    "    kwargs_baseline={\"label\": \"Ensemble mean\"},\n",
    ")\n",
    "p_internal_ex = ds_plot_internal.climepi.plot_time_series(\n",
    "    label=\"Ensemble member\", line_color=\"gray\"\n",
    ")\n",
    "p_internal = (p_internal_plume * p_internal_ex).opts(**plot_opts_clim)\n",
    "p_internal"
   ]
  },
  {
   "cell_type": "code",
   "execution_count": null,
   "metadata": {},
   "outputs": [],
   "source": [
    "# Model variability\n",
    "ds_plot_model = (\n",
    "    ds_temp_yearly.sel(scenario=scenario_ex, model=models_compare)\n",
    "    .climepi.ensemble_stats(polyfit_degree=polyfit_degree)\n",
    "    .sel(stat=\"mean\", drop=True)\n",
    "    .assign_coords(model=models_compare_plot_names)\n",
    "    .rename(model=\"Climate model\")\n",
    ")\n",
    "p_model = ds_plot_model.climepi.plot_time_series(\n",
    "    by=\"Climate model\", line_color=colors[1], line_dash=[\"dashed\", \"solid\", \"dotted\"]\n",
    ").opts(**{**plot_opts_clim})\n",
    "p_model"
   ]
  },
  {
   "cell_type": "code",
   "execution_count": null,
   "metadata": {},
   "outputs": [],
   "source": [
    "# Scenario variability\n",
    "ds_plot_scenario = (\n",
    "    ds_temp_yearly.sel(scenario=scenarios_compare)\n",
    "    .climepi.ensemble_stats(polyfit_degree=polyfit_degree)\n",
    "    .sel(stat=\"mean\", drop=True)\n",
    "    .mean(dim=\"model\")\n",
    "    .assign_coords(scenario=scenarios_compare_plot_names)\n",
    "    .rename(scenario=\"Scenario\")\n",
    ")\n",
    "p_scenario = ds_plot_scenario.climepi.plot_time_series(\n",
    "    by=\"Scenario\", line_color=colors[2], line_dash=[\"dashed\", \"solid\", \"dotted\"]\n",
    ").opts(**plot_opts_clim)\n",
    "p_scenario"
   ]
  },
  {
   "cell_type": "code",
   "execution_count": null,
   "metadata": {},
   "outputs": [],
   "source": [
    "# Climate variability\n",
    "p_clim_plume = ds_temp_yearly.climepi.plot_uncertainty_interval_decomposition(\n",
    "    uncertainty_level=uncertainty_level, polyfit_degree=polyfit_degree\n",
    ").opts(**plot_opts_clim)\n",
    "p_clim_plume"
   ]
  },
  {
   "cell_type": "code",
   "execution_count": null,
   "metadata": {},
   "outputs": [],
   "source": [
    "# Epi variability\n",
    "p_epi_plume = ds_days_suitable.climepi.plot_uncertainty_interval_decomposition(\n",
    "    uncertainty_level=uncertainty_level, polyfit_degree=polyfit_degree\n",
    ").opts(**plot_opts_epi)\n",
    "p_epi_plume"
   ]
  },
  {
   "cell_type": "code",
   "execution_count": 21,
   "metadata": {},
   "outputs": [],
   "source": [
    "export_main_figure([p_internal, p_model, p_scenario, p_clim_plume, p_epi_plume])"
   ]
  },
  {
   "cell_type": "code",
   "execution_count": null,
   "metadata": {},
   "outputs": [],
   "source": [
    "# Example results for paper\n",
    "\n",
    "year_example = 2080\n",
    "\n",
    "\n",
    "def _get_example_results(ds, data_var=None):\n",
    "    da_decomp = ds.climepi.uncertainty_interval_decomposition(\n",
    "        data_var, polyfit_degree=polyfit_degree, uncertainty_level=uncertainty_level\n",
    "    )[data_var].sel(time=year_example)\n",
    "    internal_width = (\n",
    "        da_decomp.sel(level=\"internal_upper\") - da_decomp.sel(level=\"internal_lower\")\n",
    "    ).values\n",
    "    total_width = (\n",
    "        da_decomp.sel(level=\"scenario_upper\") - da_decomp.sel(level=\"scenario_lower\")\n",
    "    ).values\n",
    "    return internal_width / total_width\n",
    "\n",
    "\n",
    "prop_temp = _get_example_results(ds_temp_yearly, data_var=\"temperature\")\n",
    "print(\n",
    "    f\"Proportion of uncertainty in temperature in {year_example} \"\n",
    "    f\"due to internal variability: {prop_temp * 100:.2f}%\"\n",
    ")\n",
    "prop_epi = _get_example_results(ds_days_suitable, data_var=\"portion_suitable\")\n",
    "print(\n",
    "    f\"Proportion of uncertainty in months suitable in {year_example} \"\n",
    "    f\"due to internal variability: {prop_epi * 100:.2f}%\"\n",
    ")"
   ]
  }
 ],
 "metadata": {
  "kernelspec": {
   "display_name": "climate-vbd-uncertainty",
   "language": "python",
   "name": "python3"
  },
  "language_info": {
   "codemirror_mode": {
    "name": "ipython",
    "version": 3
   },
   "file_extension": ".py",
   "mimetype": "text/x-python",
   "name": "python",
   "nbconvert_exporter": "python",
   "pygments_lexer": "ipython3",
   "version": "3.12.8"
  }
 },
 "nbformat": 4,
 "nbformat_minor": 2
}
