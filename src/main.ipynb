{
 "cells": [
  {
   "cell_type": "code",
   "execution_count": null,
   "metadata": {},
   "outputs": [],
   "source": [
    "import sys\n",
    "\n",
    "from opts import get_opts\n",
    "from utils import get_data_base_path, make_main_figure, notebook_config\n",
    "\n",
    "sys.path.insert(1, \"/Users/user/Documents/Git_repos/climate-epidemics\")\n",
    "\n",
    "import climepi  # noqa\n",
    "from climepi import climdata, epimod\n",
    "\n",
    "# Configure notebook\n",
    "notebook_config()\n",
    "\n",
    "# Get options\n",
    "options = get_opts()\n",
    "year_range = options[\"year_range\"]\n",
    "location = options[\"location_default\"]\n",
    "epi_model_name = options[\"epi_model_name_default\"]\n",
    "polyfit_degree = options[\"polyfit_degree\"]\n",
    "plot_opts_temp = options[\"plot_opts_temp\"]\n",
    "plot_opts_epi = options[\"plot_opts_epi\"]\n",
    "figure_dir = options[\"figure_dir\"]"
   ]
  },
  {
   "cell_type": "code",
   "execution_count": null,
   "metadata": {},
   "outputs": [],
   "source": [
    "# Get climate data\n",
    "ds_clim = (\n",
    "    climdata.get_example_dataset(\"isimip_cities\", base_dir=get_data_base_path())\n",
    "    .sel(location=location)\n",
    "    .sel(time=slice(str(year_range[0]), str(year_range[1])))\n",
    ")\n",
    "# Yearly average temperature data\n",
    "ds_temp_yearly = ds_clim.climepi.yearly_average(\"temperature\")\n",
    "ds_temp_yearly[\"time\"] = ds_temp_yearly[\"time.year\"]  # avoids plotting issues"
   ]
  },
  {
   "cell_type": "code",
   "execution_count": null,
   "metadata": {},
   "outputs": [],
   "source": [
    "# Get and run epidemiological model\n",
    "epi_model = epimod.get_example_model(epi_model_name)\n",
    "ds_months_suitable = ds_clim.climepi.run_epi_model(\n",
    "    epi_model, return_months_suitable=True\n",
    ")\n",
    "ds_months_suitable[\"time\"] = ds_months_suitable[\"time.year\"]  # avoids plotting issues"
   ]
  },
  {
   "cell_type": "code",
   "execution_count": null,
   "metadata": {},
   "outputs": [],
   "source": [
    "# Example scenarios and models\n",
    "scenario_ex = \"ssp370\"\n",
    "model_ex = \"ipsl-cm6a-lr\"\n",
    "scenarios_compare = [\"ssp126\", \"ssp370\", \"ssp585\"]\n",
    "scenarios_compare_plot_names = [\"SSP1-2.6\", \"SSP3-7.0\", \"SSP5-8.5\"]\n",
    "models_compare = [\"miroc6\", \"ipsl-cm6a-lr\", \"canesm5\"]\n",
    "models_compare_plot_names = [\"MIROC6\", \"IPSL-CM6A-LR\", \"CanESM5\"]"
   ]
  },
  {
   "cell_type": "code",
   "execution_count": null,
   "metadata": {},
   "outputs": [],
   "source": [
    "# Internal variability\n",
    "ds_plot_internal = ds_temp_yearly.sel(scenario=scenario_ex, model=model_ex)\n",
    "p_internal_plume = ds_plot_internal.climepi.plot_ci_plume(\n",
    "    polyfit_degree=polyfit_degree,\n",
    "    kwargs_baseline={\"label\": \"Ensemble mean\"},\n",
    ")\n",
    "p_internal_ex = ds_plot_internal.climepi.plot_time_series(label=\"Ensemble member\")\n",
    "p_internal = (p_internal_plume * p_internal_ex).opts(**plot_opts_temp)\n",
    "p_internal"
   ]
  },
  {
   "cell_type": "code",
   "execution_count": null,
   "metadata": {},
   "outputs": [],
   "source": [
    "# Model variability\n",
    "ds_plot_model = (\n",
    "    ds_temp_yearly.sel(scenario=scenario_ex, model=models_compare)\n",
    "    .climepi.ensemble_stats(polyfit_degree=polyfit_degree)\n",
    "    .sel(ensemble_stat=\"mean\", drop=True)\n",
    "    .assign_coords(model=models_compare_plot_names)\n",
    "    .rename(model=\"Climate model\")\n",
    ")\n",
    "p_model = ds_plot_model.climepi.plot_time_series(by=\"Climate model\").opts(\n",
    "    **plot_opts_temp\n",
    ")\n",
    "p_model"
   ]
  },
  {
   "cell_type": "code",
   "execution_count": null,
   "metadata": {},
   "outputs": [],
   "source": [
    "# Scenario variability\n",
    "ds_plot_scenario = (\n",
    "    ds_temp_yearly.sel(scenario=scenarios_compare)\n",
    "    .climepi.ensemble_stats(polyfit_degree=polyfit_degree)\n",
    "    .sel(ensemble_stat=\"mean\", drop=True)\n",
    "    .mean(dim=\"model\")\n",
    "    .assign_coords(scenario=scenarios_compare_plot_names)\n",
    "    .rename(scenario=\"Scenario\")\n",
    ")\n",
    "p_scenario = ds_plot_scenario.climepi.plot_time_series(by=\"Scenario\").opts(\n",
    "    **plot_opts_temp\n",
    ")\n",
    "p_scenario"
   ]
  },
  {
   "cell_type": "code",
   "execution_count": null,
   "metadata": {},
   "outputs": [],
   "source": [
    "# Climate variability - plume\n",
    "p_clim_plume = ds_temp_yearly.climepi.plot_ci_plume(polyfit_degree=polyfit_degree).opts(\n",
    "    **plot_opts_temp\n",
    ")\n",
    "p_clim_plume"
   ]
  },
  {
   "cell_type": "code",
   "execution_count": null,
   "metadata": {},
   "outputs": [],
   "source": [
    "# Epi variability - plume\n",
    "p_epi_plume = ds_months_suitable.climepi.plot_ci_plume(\n",
    "    polyfit_degree=polyfit_degree\n",
    ").opts(**plot_opts_epi)\n",
    "p_epi_plume"
   ]
  },
  {
   "cell_type": "code",
   "execution_count": null,
   "metadata": {},
   "outputs": [],
   "source": [
    "make_main_figure([p_internal, p_model, p_scenario, p_clim_plume, p_epi_plume])"
   ]
  }
 ],
 "metadata": {
  "kernelspec": {
   "display_name": "climate-disease-uncertainty",
   "language": "python",
   "name": "python3"
  },
  "language_info": {
   "codemirror_mode": {
    "name": "ipython",
    "version": 3
   },
   "file_extension": ".py",
   "mimetype": "text/x-python",
   "name": "python",
   "nbconvert_exporter": "python",
   "pygments_lexer": "ipython3",
   "version": "3.12.7"
  }
 },
 "nbformat": 4,
 "nbformat_minor": 2
}
