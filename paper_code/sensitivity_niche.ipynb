{
 "cells": [
  {
   "cell_type": "code",
   "execution_count": null,
   "metadata": {},
   "outputs": [],
   "source": [
    "import climepi  # noqa\n",
    "import holoviews as hv\n",
    "import numpy as np\n",
    "from climepi import climdata, epimod\n",
    "\n",
    "import opts\n",
    "from figure_export import export_sensitivity_figure\n",
    "\n",
    "# Get options\n",
    "options = opts.get_opts()\n",
    "year_range = options[\"year_range\"]\n",
    "location = options[\"location_default\"]\n",
    "epi_model_name = options[\"epi_model_name_default\"]\n",
    "uncertainty_level = options[\"uncertainty_level\"]\n",
    "polyfit_degree = options[\"polyfit_degree\"]\n",
    "plot_opts_clim = options[\"plot_opts_clim\"]\n",
    "plot_opts_epi = options[\"plot_opts_epi\"]\n",
    "data_base_dir = options[\"data_base_dir\"]"
   ]
  },
  {
   "cell_type": "code",
   "execution_count": 2,
   "metadata": {},
   "outputs": [],
   "source": [
    "# Get climate data\n",
    "ds_clim = (\n",
    "    climdata.get_example_dataset(\"isimip_cities_daily\", base_dir=data_base_dir)\n",
    "    .sel(location=location)\n",
    "    .sel(time=slice(str(year_range[0]), str(year_range[1])))\n",
    ")\n",
    "# Yearly average temperature data\n",
    "ds_temp_yearly = ds_clim.climepi.yearly_average(\"temperature\")\n",
    "ds_temp_yearly[\"time\"] = ds_temp_yearly[\"time.year\"]  # avoids plotting issues"
   ]
  },
  {
   "cell_type": "code",
   "execution_count": null,
   "metadata": {},
   "outputs": [],
   "source": [
    "epi_model_base = epimod.get_example_model(epi_model_name)\n",
    "temperature_range_base = epi_model_base.temperature_range\n",
    "temperature_range_narrow = (\n",
    "    temperature_range_base[0] + 2,\n",
    "    temperature_range_base[1] - 2,\n",
    ")\n",
    "temperature_range_wide = (\n",
    "    temperature_range_base[0] - 2,\n",
    "    temperature_range_base[1] + 2,\n",
    ")\n",
    "epi_model_narrow = epimod.SuitabilityModel(temperature_range=temperature_range_narrow)\n",
    "epi_model_wide = epimod.SuitabilityModel(temperature_range=temperature_range_wide)\n",
    "print(\n",
    "    f\"Base suitability range: {temperature_range_base[0]}-{temperature_range_base[1]}°C\"\n",
    ")\n",
    "print(\n",
    "    \"Narrower suitability range: \"\n",
    "    f\"{temperature_range_narrow[0]}-{temperature_range_narrow[1]}°C\"\n",
    ")\n",
    "print(\n",
    "    f\"Wider suitability range: \"\n",
    "    f\"{temperature_range_wide[0]}-{temperature_range_wide[1]}°C\"\n",
    ")"
   ]
  },
  {
   "cell_type": "code",
   "execution_count": 4,
   "metadata": {},
   "outputs": [],
   "source": [
    "# Epi variability - plume\n",
    "panels = []\n",
    "for epi_model, show_legend in zip([epi_model_narrow, epi_model_wide], [True, False]):\n",
    "    ds_suitability = ds_clim.climepi.run_epi_model(epi_model)\n",
    "    ds_days_suitable = ds_suitability.climepi.yearly_portion_suitable()\n",
    "    ds_days_suitable[\"time\"] = ds_days_suitable[\"time.year\"]\n",
    "    panels += [\n",
    "        ds_days_suitable.climepi.plot_uncertainty_interval_decomposition(\n",
    "            uncertainty_level=uncertainty_level, polyfit_degree=polyfit_degree\n",
    "        ).opts(\n",
    "            **{\n",
    "                **plot_opts_epi,\n",
    "                \"ylim\": (0, 240),\n",
    "                \"yticks\": np.arange(241, step=30),\n",
    "                \"show_legend\": show_legend,\n",
    "            }\n",
    "        )\n",
    "    ]"
   ]
  },
  {
   "cell_type": "code",
   "execution_count": null,
   "metadata": {},
   "outputs": [],
   "source": [
    "# Show panels\n",
    "hv.Layout(panels).cols(1)"
   ]
  },
  {
   "cell_type": "code",
   "execution_count": 6,
   "metadata": {},
   "outputs": [],
   "source": [
    "# Combine panels\n",
    "export_sensitivity_figure(panels)"
   ]
  }
 ],
 "metadata": {
  "kernelspec": {
   "display_name": "climate-vbd-uncertainty",
   "language": "python",
   "name": "python3"
  },
  "language_info": {
   "codemirror_mode": {
    "name": "ipython",
    "version": 3
   },
   "file_extension": ".py",
   "mimetype": "text/x-python",
   "name": "python",
   "nbconvert_exporter": "python",
   "pygments_lexer": "ipython3",
   "version": "3.12.8"
  }
 },
 "nbformat": 4,
 "nbformat_minor": 2
}
