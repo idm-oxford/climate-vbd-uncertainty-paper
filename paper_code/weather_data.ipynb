{
 "cells": [
  {
   "cell_type": "code",
   "execution_count": null,
   "metadata": {},
   "outputs": [],
   "source": [
    "# Notebook to retrieve and save the observed weather data\n",
    "\n",
    "from datetime import datetime\n",
    "\n",
    "import meteostat\n",
    "import opts\n",
    "import xarray as xr\n",
    "from climepi._xcdat import BoundsAccessor, center_times  # noqa\n",
    "\n",
    "# # Get options\n",
    "options = opts.get_opts()\n",
    "data_base_dir = options[\"data_base_dir\"]"
   ]
  },
  {
   "cell_type": "code",
   "execution_count": null,
   "metadata": {},
   "outputs": [],
   "source": [
    "stations_all = meteostat.Stations().fetch()\n",
    "station_dict = {\n",
    "    \"03772\": \"London\",  # \"London Heathrow Airport\",\n",
    "    \"07149\": \"Paris\",  # \"Paris-Orly Airport\",\n",
    "    \"17060\": \"Istanbul\",  # \"Istanbul Ataturk Airport\",\n",
    "    \"68816\": \"Cape Town\",  # \"Cape Town International Airport\",\n",
    "    \"72295\": \"Los Angeles\",  # \"Los Angeles International Airport\",\n",
    "}\n",
    "\n",
    "for station, location in station_dict.items():\n",
    "    print(\n",
    "        f\"For location {location}, using data from weather station: {stations_all.loc[station]['name']}\"\n",
    "    )"
   ]
  },
  {
   "cell_type": "code",
   "execution_count": 3,
   "metadata": {},
   "outputs": [],
   "source": [
    "df = meteostat.Daily(\n",
    "    loc=list(station_dict),\n",
    "    start=datetime(2020, 1, 1),\n",
    "    end=datetime(2020, 12, 31),\n",
    ").fetch()[[\"tavg\"]]\n",
    "ds = (\n",
    "    xr.Dataset.from_dataframe(df)\n",
    "    .rename_vars(tavg=\"temperature\")\n",
    "    .assign_coords(location=(\"station\", list(station_dict.values())))\n",
    "    .swap_dims(station=\"location\")\n",
    "    .drop_vars(\"station\")\n",
    ")"
   ]
  },
  {
   "cell_type": "code",
   "execution_count": null,
   "metadata": {},
   "outputs": [],
   "source": [
    "ds = center_times(ds.bounds.add_time_bounds(method=\"freq\", freq=\"day\"))\n",
    "ds[\"time\"].encoding[\"calendar\"] = \"standard\"\n",
    "ds[\"time\"].encoding[\"units\"] = \"hours since 2000-01-01 00:00:00\"\n",
    "ds"
   ]
  },
  {
   "cell_type": "code",
   "execution_count": 6,
   "metadata": {},
   "outputs": [],
   "source": [
    "ds.to_netcdf(data_base_dir / \"weather_2020.nc\")"
   ]
  }
 ],
 "metadata": {
  "kernelspec": {
   "display_name": "default",
   "language": "python",
   "name": "python3"
  },
  "language_info": {
   "codemirror_mode": {
    "name": "ipython",
    "version": 3
   },
   "file_extension": ".py",
   "mimetype": "text/x-python",
   "name": "python",
   "nbconvert_exporter": "python",
   "pygments_lexer": "ipython3",
   "version": "3.12.10"
  }
 },
 "nbformat": 4,
 "nbformat_minor": 2
}
