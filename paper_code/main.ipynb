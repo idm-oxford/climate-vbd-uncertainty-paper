{
 "cells": [
  {
   "cell_type": "code",
   "execution_count": null,
   "metadata": {},
   "outputs": [],
   "source": [
    "# Notebook for generating Fig. 1 of the paper\n",
    "\n",
    "import climepi  # noqa\n",
    "import holoviews as hv\n",
    "from climepi import climdata, epimod\n",
    "\n",
    "import opts\n",
    "from figure_export import export_main_figure\n",
    "\n",
    "# Get options\n",
    "options = opts.get_opts()\n",
    "year_range = options[\"year_range\"]\n",
    "location = options[\"location_default\"]\n",
    "epi_model_name = options[\"epi_model_name_default\"]\n",
    "ensemble_stats_kwargs = options[\"ensemble_stats_kwargs\"]\n",
    "plot_opts_clim = options[\"plot_opts_clim\"]\n",
    "plot_opts_epi = options[\"plot_opts_epi\"]\n",
    "data_base_dir = options[\"data_base_dir\"]\n",
    "\n",
    "colors = hv.Cycle().values"
   ]
  },
  {
   "cell_type": "code",
   "execution_count": null,
   "metadata": {},
   "outputs": [],
   "source": [
    "# Get climate data\n",
    "ds_clim = (\n",
    "    climdata.get_example_dataset(\"isimip_cities_daily\", base_dir=data_base_dir)\n",
    "    .sel(location=location)\n",
    "    .sel(time=slice(str(year_range[0]), str(year_range[1])))\n",
    ")\n",
    "# Yearly average temperature data\n",
    "ds_temp_yearly = ds_clim.climepi.yearly_average(\"temperature\")\n",
    "ds_temp_yearly[\"time\"] = ds_temp_yearly[\"time.year\"]  # avoids plotting issues"
   ]
  },
  {
   "cell_type": "code",
   "execution_count": null,
   "metadata": {},
   "outputs": [],
   "source": [
    "# Get and run epidemiological model\n",
    "epi_model = epimod.get_example_model(epi_model_name)\n",
    "ds_suitability = ds_clim.climepi.run_epi_model(epi_model)\n",
    "ds_days_suitable = ds_suitability.climepi.yearly_portion_suitable()\n",
    "ds_days_suitable[\"time\"] = ds_days_suitable[\"time.year\"]  # avoids plotting issues"
   ]
  },
  {
   "cell_type": "code",
   "execution_count": null,
   "metadata": {},
   "outputs": [],
   "source": [
    "# Example scenarios and models\n",
    "scenario_ex = \"ssp370\"\n",
    "model_ex = \"ipsl-cm6a-lr\"\n",
    "scenarios_compare = [\"ssp126\", \"ssp370\", \"ssp585\"]\n",
    "scenarios_compare_plot_names = [\"SSP1-2.6\", \"SSP3-7.0\", \"SSP5-8.5\"]\n",
    "models_compare = [\"canesm5\", \"ipsl-cm6a-lr\", \"miroc6\"]\n",
    "models_compare_plot_names = [\"CanESM5\", \"IPSL-CM6A-LR\", \"MIROC6\"]"
   ]
  },
  {
   "cell_type": "code",
   "execution_count": null,
   "metadata": {},
   "outputs": [],
   "source": [
    "# Internal variability\n",
    "ds_plot_internal = ds_temp_yearly.sel(scenario=scenario_ex, model=model_ex)\n",
    "p_internal_plume = ds_plot_internal.climepi.plot_uncertainty_interval_decomposition(\n",
    "    kwargs_baseline={\"label\": \"Ensemble mean\"}, **ensemble_stats_kwargs\n",
    ")\n",
    "p_internal_ex = ds_plot_internal.climepi.plot_time_series(\n",
    "    label=\"Ensemble member\", line_color=\"gray\"\n",
    ")\n",
    "p_internal = (p_internal_plume * p_internal_ex).opts(**plot_opts_clim)\n",
    "p_internal"
   ]
  },
  {
   "cell_type": "code",
   "execution_count": null,
   "metadata": {},
   "outputs": [],
   "source": [
    "# Model variability\n",
    "ds_plot_model = (\n",
    "    ds_temp_yearly.sel(scenario=scenario_ex, model=models_compare)\n",
    "    .climepi.ensemble_stats(**ensemble_stats_kwargs)\n",
    "    .sel(stat=\"mean\", drop=True)\n",
    "    .assign_coords(model=models_compare_plot_names)\n",
    "    .rename(model=\"Climate model\")\n",
    ")\n",
    "p_model = ds_plot_model.climepi.plot_time_series(\n",
    "    by=\"Climate model\", line_color=colors[1], line_dash=[\"dashed\", \"solid\", \"dotted\"]\n",
    ").opts(**{**plot_opts_clim})\n",
    "p_model"
   ]
  },
  {
   "cell_type": "code",
   "execution_count": null,
   "metadata": {},
   "outputs": [],
   "source": [
    "# Scenario variability\n",
    "ds_plot_scenario = (\n",
    "    ds_temp_yearly.sel(scenario=scenarios_compare)\n",
    "    .climepi.ensemble_stats(**ensemble_stats_kwargs)\n",
    "    .sel(stat=\"mean\", drop=True)\n",
    "    .mean(dim=\"model\")\n",
    "    .assign_coords(scenario=scenarios_compare_plot_names)\n",
    "    .rename(scenario=\"Scenario\")\n",
    ")\n",
    "p_scenario = ds_plot_scenario.climepi.plot_time_series(\n",
    "    by=\"Scenario\", line_color=colors[2], line_dash=[\"dashed\", \"solid\", \"dotted\"]\n",
    ").opts(**plot_opts_clim)\n",
    "p_scenario"
   ]
  },
  {
   "cell_type": "code",
   "execution_count": null,
   "metadata": {},
   "outputs": [],
   "source": [
    "# Climate variability\n",
    "p_clim_plume = ds_temp_yearly.climepi.plot_uncertainty_interval_decomposition(\n",
    "    **ensemble_stats_kwargs\n",
    ").opts(**plot_opts_clim)\n",
    "p_clim_plume"
   ]
  },
  {
   "cell_type": "code",
   "execution_count": null,
   "metadata": {},
   "outputs": [],
   "source": [
    "# Epi variability\n",
    "p_epi_plume = ds_days_suitable.climepi.plot_uncertainty_interval_decomposition(\n",
    "    **ensemble_stats_kwargs\n",
    ").opts(**plot_opts_epi)\n",
    "p_epi_plume"
   ]
  },
  {
   "cell_type": "code",
   "execution_count": null,
   "metadata": {},
   "outputs": [],
   "source": [
    "export_main_figure([p_internal, p_model, p_scenario, p_clim_plume, p_epi_plume])"
   ]
  }
 ],
 "metadata": {
  "kernelspec": {
   "display_name": "default",
   "language": "python",
   "name": "python3"
  },
  "language_info": {
   "codemirror_mode": {
    "name": "ipython",
    "version": 3
   },
   "file_extension": ".py",
   "mimetype": "text/x-python",
   "name": "python",
   "nbconvert_exporter": "python",
   "pygments_lexer": "ipython3",
   "version": "3.12.11"
  }
 },
 "nbformat": 4,
 "nbformat_minor": 2
}
