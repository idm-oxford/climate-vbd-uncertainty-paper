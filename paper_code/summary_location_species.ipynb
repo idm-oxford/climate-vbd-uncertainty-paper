{
 "cells": [
  {
   "cell_type": "code",
   "execution_count": null,
   "metadata": {},
   "outputs": [],
   "source": [
    "import climepi  # noqa\n",
    "import numpy as np\n",
    "import xarray as xr\n",
    "from bokeh.plotting import show\n",
    "from climepi import climdata, epimod\n",
    "\n",
    "import opts\n",
    "from figure_export import export_summary_figure\n",
    "from summary_plot import make_summary_plot\n",
    "\n",
    "# Get options\n",
    "options = opts.get_opts()\n",
    "data_base_dir = options[\"data_base_dir\"]\n",
    "year_range = options[\"year_range\"]\n",
    "locations = [options[\"location_default\"]] + options[\"locations_additional\"]\n",
    "no_locations = len(locations)\n",
    "epi_model_names = [\n",
    "    options[\"epi_model_name_default\"],\n",
    "    options[\"epi_model_name_additional\"],\n",
    "]\n",
    "epi_model_species = [\n",
    "    options[\"epi_model_species_default\"],\n",
    "    options[\"epi_model_species_additional\"],\n",
    "]\n",
    "uncertainty_level = options[\"uncertainty_level\"]\n",
    "polyfit_degree = options[\"polyfit_degree\"]\n",
    "\n",
    "years_summary = [2040, 2060, 2080]"
   ]
  },
  {
   "cell_type": "code",
   "execution_count": 2,
   "metadata": {},
   "outputs": [],
   "source": [
    "# Get climate data\n",
    "ds_clim = (\n",
    "    climdata.get_example_dataset(\"isimip_cities_daily\", base_dir=data_base_dir)\n",
    "    .sel(time=slice(str(year_range[0]), str(year_range[1])))\n",
    "    .sel(location=locations)\n",
    ")\n",
    "# Yearly average temperature data\n",
    "ds_temp_yearly = ds_clim.climepi.yearly_average(\"temperature\")"
   ]
  },
  {
   "cell_type": "code",
   "execution_count": 3,
   "metadata": {},
   "outputs": [],
   "source": [
    "# Get 2020 weather data\n",
    "ds_weather_2020 = xr.open_dataset(data_base_dir / \"weather_2020.nc\").sel(\n",
    "    location=locations\n",
    ")\n",
    "ds_temp_yearly_2020 = ds_weather_2020.climepi.yearly_average(\"temperature\")"
   ]
  },
  {
   "cell_type": "code",
   "execution_count": null,
   "metadata": {},
   "outputs": [],
   "source": [
    "# Make summary plot of uncertainty in temperature\n",
    "p_clim = make_summary_plot(\n",
    "    ds_temp_yearly,\n",
    "    ds_historical=ds_temp_yearly_2020,\n",
    "    data_var=\"temperature\",\n",
    "    years_summary=years_summary,\n",
    "    polyfit_degree=polyfit_degree,\n",
    "    uncertainty_level=uncertainty_level,\n",
    "    ylim=(9, 24),\n",
    "    yticks=np.arange(9, 25, 3),\n",
    "    ylabel=\"Annual mean\\ntemperature (°C)\",\n",
    ")\n",
    "show(p_clim)"
   ]
  },
  {
   "cell_type": "code",
   "execution_count": null,
   "metadata": {},
   "outputs": [],
   "source": [
    "# Make summary plots of uncertainty in months suitable\n",
    "panels_epi_plume = []\n",
    "for epi_model_name, species_curr in zip(epi_model_names, epi_model_species):\n",
    "    epi_model = epimod.get_example_model(epi_model_name)\n",
    "    ds_suitability = ds_clim.climepi.run_epi_model(epi_model)\n",
    "    ds_days_suitable = ds_suitability.climepi.yearly_portion_suitable()\n",
    "    ds_suitability_2020 = ds_weather_2020.climepi.run_epi_model(epi_model)\n",
    "    ds_days_suitable_2020 = ds_suitability_2020.climepi.yearly_portion_suitable()\n",
    "    p = make_summary_plot(\n",
    "        ds_days_suitable,\n",
    "        ds_historical=ds_days_suitable_2020,\n",
    "        data_var=\"portion_suitable\",\n",
    "        years_summary=years_summary,\n",
    "        polyfit_degree=polyfit_degree,\n",
    "        uncertainty_level=uncertainty_level,\n",
    "        ylim=(0, 365),\n",
    "        yticks=np.arange(0, 361, 60),\n",
    "        ylabel=f\"Days suitable\\n({species_curr})\",\n",
    "    )\n",
    "    show(p)\n",
    "    panels_epi_plume.append(p)"
   ]
  },
  {
   "cell_type": "code",
   "execution_count": null,
   "metadata": {},
   "outputs": [],
   "source": [
    "# Combine and export panels\n",
    "panels = [p_clim] + panels_epi_plume\n",
    "export_summary_figure(panels)"
   ]
  }
 ],
 "metadata": {
  "kernelspec": {
   "display_name": "climate-vbd-uncertainty",
   "language": "python",
   "name": "python3"
  },
  "language_info": {
   "codemirror_mode": {
    "name": "ipython",
    "version": 3
   },
   "file_extension": ".py",
   "mimetype": "text/x-python",
   "name": "python",
   "nbconvert_exporter": "python",
   "pygments_lexer": "ipython3",
   "version": "3.12.8"
  }
 },
 "nbformat": 4,
 "nbformat_minor": 2
}
